{
 "cells": [
  {
   "cell_type": "markdown",
   "metadata": {},
   "source": [
    "# Regression Assignment - 1"
   ]
  },
  {
   "cell_type": "markdown",
   "metadata": {},
   "source": [
    "### Q1. Explain the difference between simple linear regression and multiple linear regression. Provide an example of each.\n"
   ]
  },
  {
   "cell_type": "code",
   "execution_count": null,
   "metadata": {},
   "outputs": [],
   "source": [
    "\"\"\"\n",
    "Simple Linear Regression:\n",
    "Simple linear regression involves predicting a dependent variable (Y) based on the linear relationship with a single independent variable (X).\n",
    "The equation of a simple linear regression model is represented as: Y = β0 + β1X + ε, where:\n",
    "Y is the dependent variable,\n",
    "X is the independent variable,\n",
    "β0 is the intercept (constant term),\n",
    "β1 is the coefficient of the independent variable, and\n",
    "ε is the error term.\n",
    "Example: Predicting a student's exam score (Y) based on the number of hours (X) they studied. Here, the number of hours studied is the independent variable, and the exam score is the dependent variable.\n",
    "Multiple Linear Regression:\n",
    "Multiple linear regression extends simple linear regression by incorporating multiple independent variables to predict a dependent variable.\n",
    "The equation of a multiple linear regression model is represented as: Y = β0 + β1X1 + β2X2 + ... + βnXn + ε, where:\n",
    "Y is the dependent variable,\n",
    "X1, X2, ..., Xn are the independent variables,\n",
    "β0 is the intercept (constant term),\n",
    "β1, β2, ..., βn are the coefficients of the independent variables, and\n",
    "ε is the error term.\n",
    "\n",
    "\n",
    "\"\"\""
   ]
  },
  {
   "cell_type": "markdown",
   "metadata": {},
   "source": [
    "###  Q2. Discuss the assumptions of linear regression. How can you check whether these assumptions hold in a given dataset?\n"
   ]
  },
  {
   "cell_type": "code",
   "execution_count": null,
   "metadata": {},
   "outputs": [],
   "source": [
    "\"\"\"\n",
    "Linear regression relies on several assumptions, including:\n",
    "\n",
    "Linearity: The relationship between the independent and dependent variables is linear.\n",
    "Independence: The residuals (the differences between the observed and predicted values) are independent of each other.\n",
    "Homoscedasticity: The variance of the residuals is constant across all levels of the independent variables.\n",
    "Normality: The residuals follow a normal distribution.\n",
    "These assumptions can be checked using various diagnostic tools such as residual plots, scatterplots, and statistical tests like the Shapiro-Wilk test for normality or the Breusch-Pagan test for homoscedasticity.\n",
    "\n",
    "\n",
    "\"\"\""
   ]
  },
  {
   "cell_type": "markdown",
   "metadata": {},
   "source": [
    "###  Q3. How do you interpret the slope and intercept in a linear regression model? Provide an example using a real-world scenario."
   ]
  },
  {
   "cell_type": "code",
   "execution_count": null,
   "metadata": {},
   "outputs": [],
   "source": [
    "\"\"\"\n",
    "The slope (β1) represents the change in the dependent variable for a one-unit change in the independent variable, while the intercept (β0) represents the value of the dependent variable when the independent variable is zero.\n",
    "\n",
    "For example, in a simple linear regression predicting exam scores based on study hours:\n",
    "\n",
    "Slope (β1): It tells us how much the exam score is expected to increase (or decrease) for each additional hour studied.\n",
    "Intercept (β0): It represents the expected exam score when the student studied zero hours, which might not have a practical interpretation in this scenario.\n",
    "\n",
    "\"\"\""
   ]
  },
  {
   "cell_type": "markdown",
   "metadata": {},
   "source": [
    "### Q4. Explain the concept of gradient descent. How is it used in machine learning?"
   ]
  },
  {
   "cell_type": "code",
   "execution_count": null,
   "metadata": {},
   "outputs": [],
   "source": [
    "\"\"\"\n",
    "Gradient descent is an optimization algorithm used to minimize the loss function in machine \n",
    "learning models, including linear regression. It works by iteratively adjusting the parameters \n",
    "of the model (e.g., coefficients in regression) in the direction of the steepest descent of the loss \n",
    "function's gradient.\n",
    "\n",
    "\"\"\""
   ]
  },
  {
   "cell_type": "markdown",
   "metadata": {},
   "source": [
    "### Q5. Describe the multiple linear regression model. How does it differ from simple linear regression?"
   ]
  },
  {
   "cell_type": "code",
   "execution_count": null,
   "metadata": {},
   "outputs": [],
   "source": [
    "\"\"\"\n",
    "Multiple Linear Regression:\n",
    "Multiple linear regression extends simple linear regression by incorporating multiple independent variables to predict a dependent variable.\n",
    "The equation of a multiple linear regression model is represented as: Y = β0 + β1X1 + β2X2 + ... + βnXn + ε, where:\n",
    "Y is the dependent variable,\n",
    "X1, X2, ..., Xn are the independent variables,\n",
    "β0 is the intercept (constant term),\n",
    "β1, β2, ..., βn are the coefficients of the independent variables, and\n",
    "ε is the error term.\n",
    "Example: Predicting house prices (Y) based on multiple factors such as square footage (X1), number of bedrooms (X2), number of bathrooms (X3), \n",
    "and location (X4). Here, square footage, number of bedrooms, number of bathrooms, and location are all independent variables.\n",
    "\n",
    "\"\"\""
   ]
  },
  {
   "cell_type": "markdown",
   "metadata": {},
   "source": [
    "### Q6. Explain the concept of multicollinearity in multiple linear regression. How can you detect and address this issue?\n"
   ]
  },
  {
   "cell_type": "code",
   "execution_count": null,
   "metadata": {},
   "outputs": [],
   "source": [
    "\"\"\"\n",
    "Multicollinearity occurs when independent variables in a multiple regression model are highly correlated with each other. \n",
    "It can cause issues like unstable coefficients and difficulty in interpreting the model.\n",
    "\n",
    "You can detect multicollinearity using techniques like correlation matrices, variance inflation factor (VIF), \n",
    "or condition indices. To address multicollinearity, you can consider techniques such as removing one of the correlated variables, \n",
    "combining correlated variables, or using regularization techniques like Ridge regression.\n",
    "\n",
    "\n",
    "\"\"\""
   ]
  },
  {
   "cell_type": "markdown",
   "metadata": {},
   "source": [
    "### Q7. Describe the polynomial regression model. How is it different from linear regression?"
   ]
  },
  {
   "cell_type": "code",
   "execution_count": null,
   "metadata": {},
   "outputs": [],
   "source": [
    "\"\"\"\n",
    "Polynomial regression is a form of regression analysis in which the relationship between the independent variable(s) and the dependent variable \n",
    "is modeled as an nth-degree polynomial. Unlike linear regression, which assumes a linear relationship between variables, polynomial regression \n",
    "allows for more complex, nonlinear relationships.\n",
    "\n",
    "\"\"\""
   ]
  },
  {
   "cell_type": "markdown",
   "metadata": {},
   "source": [
    "### Q8. What are the advantages and disadvantages of polynomial regression compared to linear regression? In what situations would you prefer to use polynomial regression?\n",
    "\n",
    "\n",
    "\n",
    "\n",
    "\n"
   ]
  },
  {
   "cell_type": "code",
   "execution_count": null,
   "metadata": {},
   "outputs": [],
   "source": [
    "\"\"\"\n",
    "Advantages of polynomial regression:\n",
    "\n",
    "Can model nonlinear relationships between variables.\n",
    "More flexible than linear regression.\n",
    "\n",
    "Disadvantages:\n",
    "\n",
    "More complex model, which can lead to overfitting.\n",
    "Extrapolation beyond the range of observed data can be unreliable.\n",
    "Polynomial regression is preferred when the relationship between variables is nonlinear and cannot be \n",
    "adequately modeled using linear regression. However, it should be used judiciously to avoid overfitting.\n",
    "\n",
    "\n",
    "\"\"\""
   ]
  }
 ],
 "metadata": {
  "language_info": {
   "name": "python"
  }
 },
 "nbformat": 4,
 "nbformat_minor": 2
}
